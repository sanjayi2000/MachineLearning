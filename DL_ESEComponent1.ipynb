{
  "nbformat": 4,
  "nbformat_minor": 0,
  "metadata": {
    "colab": {
      "provenance": [],
      "include_colab_link": true
    },
    "kernelspec": {
      "name": "python3",
      "display_name": "Python 3"
    },
    "language_info": {
      "name": "python"
    }
  },
  "cells": [
    {
      "cell_type": "markdown",
      "metadata": {
        "id": "view-in-github",
        "colab_type": "text"
      },
      "source": [
        "<a href=\"https://colab.research.google.com/github/sanjayi2000/MachineLearning/blob/main/DL_ESEComponent1.ipynb\" target=\"_parent\"><img src=\"https://colab.research.google.com/assets/colab-badge.svg\" alt=\"Open In Colab\"/></a>"
      ]
    },
    {
      "cell_type": "code",
      "execution_count": null,
      "metadata": {
        "id": "sKEBvrwwZLwi"
      },
      "outputs": [],
      "source": [
        "import numpy as np"
      ]
    },
    {
      "cell_type": "code",
      "source": [
        "def fuel_cost(s, d):\n",
        "    return 0.1 * s * s + 0.5 * d"
      ],
      "metadata": {
        "id": "DYikoYFvam73"
      },
      "execution_count": null,
      "outputs": []
    },
    {
      "cell_type": "code",
      "source": [
        "def delivery_time(s, d):\n",
        "    return d / s + 0.1 * d"
      ],
      "metadata": {
        "id": "rl716m0aa_g5"
      },
      "execution_count": null,
      "outputs": []
    },
    {
      "cell_type": "code",
      "source": [
        "def combined_cost(s, d):\n",
        "    return fuel_cost(s, d) + delivery_time(s, d)"
      ],
      "metadata": {
        "id": "j52Lyb16cQjr"
      },
      "execution_count": null,
      "outputs": []
    },
    {
      "cell_type": "code",
      "source": [
        "s=50\n",
        "d=100\n",
        "m=0.9\n",
        "lr=0.01\n",
        "it=3\n",
        "velos=0\n",
        "velod=0"
      ],
      "metadata": {
        "id": "L33MFSQ1bUEp"
      },
      "execution_count": null,
      "outputs": []
    },
    {
      "cell_type": "code",
      "source": [
        "for i in range(it):\n",
        "  grad_fuel_cost_s = 0.2 * s\n",
        "  grad_fuel_cost_d=0.5\n",
        "  grad_delivery_time_s=-d / (s ** 2)\n",
        "  grad_delivery_time_d = 1 / s + 0.1"
      ],
      "metadata": {
        "id": "TGEjI57rcq7s"
      },
      "execution_count": null,
      "outputs": []
    },
    {
      "cell_type": "code",
      "source": [
        "    if i == 0:\n",
        "        velos = 0\n",
        "        velod = 0\n",
        "    else:\n",
        "        velos = m * velos - lr * (grad_fuel_cost_s + grad_delivery_time_s)\n",
        "        velod = m * velod - lr * (grad_fuel_cost_d + grad_delivery_time_d)"
      ],
      "metadata": {
        "id": "L9oRTzBWdaVl"
      },
      "execution_count": null,
      "outputs": []
    },
    {
      "cell_type": "code",
      "source": [
        "s = s+velos\n",
        "d = d+velod"
      ],
      "metadata": {
        "id": "YzaXP4Dyeve4"
      },
      "execution_count": null,
      "outputs": []
    },
    {
      "cell_type": "code",
      "source": [
        "comb_cost = combined_cost(s, d)"
      ],
      "metadata": {
        "id": "OA281sUYe8Aw"
      },
      "execution_count": null,
      "outputs": []
    },
    {
      "cell_type": "code",
      "source": [
        "print(f\"Iteration {i+1}: Speed = {s:.2f} mph, Distance = {d:.2f} miles, Combined Cost = {comb_cost:.2f}\")\n"
      ],
      "metadata": {
        "colab": {
          "base_uri": "https://localhost:8080/"
        },
        "id": "5gvZCocefHsk",
        "outputId": "47177c99-74c8-4ce6-f599-c648bb67d66c"
      },
      "execution_count": null,
      "outputs": [
        {
          "output_type": "stream",
          "name": "stdout",
          "text": [
            "Iteration 3: Speed = 49.90 mph, Distance = 99.99 miles, Combined Cost = 311.01\n"
          ]
        }
      ]
    }
  ]
}