{
  "nbformat": 4,
  "nbformat_minor": 0,
  "metadata": {
    "colab": {
      "provenance": [],
      "authorship_tag": "ABX9TyPfIHYb2U826889wkQw40Eb",
      "include_colab_link": true
    },
    "kernelspec": {
      "name": "python3",
      "display_name": "Python 3"
    },
    "language_info": {
      "name": "python"
    }
  },
  "cells": [
    {
      "cell_type": "markdown",
      "metadata": {
        "id": "view-in-github",
        "colab_type": "text"
      },
      "source": [
        "<a href=\"https://colab.research.google.com/github/sanjayi2000/MachineLearning/blob/main/2348552_MLPP1.ipynb\" target=\"_parent\"><img src=\"https://colab.research.google.com/assets/colab-badge.svg\" alt=\"Open In Colab\"/></a>"
      ]
    },
    {
      "cell_type": "code",
      "execution_count": 7,
      "metadata": {
        "id": "qr8pxk3Z4KF8"
      },
      "outputs": [],
      "source": [
        "import numpy as np"
      ]
    },
    {
      "cell_type": "code",
      "source": [
        "class Perceptron:\n",
        "    def __init__(self, learning_rate=0.1, n_iterations=100,initial_weights=None):\n",
        "        self.learning_rate = learning_rate\n",
        "        self.n_iterations = n_iterations\n",
        "        if initial_weights is not None and len(initial_weights) >= 3:\n",
        "            self.weights = np.array(initial_weights[:2])\n",
        "            self.bias = initial_weights[2]\n",
        "        else:\n",
        "            self.weights = None\n",
        "            self.bias = None\n",
        "\n",
        "    def fit(self, X, y):\n",
        "        n_samples, n_features = X.shape\n",
        "\n",
        "        if self.weights is None:\n",
        "            self.weights = np.zeros(n_features)\n",
        "        if self.bias is None:\n",
        "            self.bias = 0\n",
        "\n",
        "        errors = []\n",
        "\n",
        "        for _ in range(self.n_iterations):\n",
        "            total_error = 0\n",
        "            for idx, x_i in enumerate(X):\n",
        "                linear_output = np.dot(x_i, self.weights) + self.bias\n",
        "                y_predicted = self.activation_function(linear_output)\n",
        "                error = y[idx] - y_predicted\n",
        "\n",
        "                update = self.learning_rate * error\n",
        "                self.weights += update * x_i\n",
        "                self.bias += update\n",
        "\n",
        "                total_error += error**2\n",
        "            errors.append(total_error)\n",
        "\n",
        "        return errors\n",
        "\n",
        "    def predict(self, X):\n",
        "        linear_output = np.dot(X, self.weights) + self.bias\n",
        "        y_predicted = self.activation_function(linear_output)\n",
        "        return y_predicted\n",
        "\n",
        "    def activation_function(self, x):\n",
        "        return np.where(x >= 0, 1, 0)\n",
        "\n"
      ],
      "metadata": {
        "id": "YWVud0Fa4Trc"
      },
      "execution_count": 8,
      "outputs": []
    },
    {
      "cell_type": "markdown",
      "source": [
        "Enter Inputs"
      ],
      "metadata": {
        "id": "6dpRPrf745xN"
      }
    },
    {
      "cell_type": "code",
      "source": [
        "inputs = np.array([[0, 0], [0, 1], [1, 0], [1, 1]])\n",
        "\n",
        "and_outputs = np.array([0, 0, 0, 1])\n",
        "or_outputs = np.array([0, 1, 1, 1])\n",
        "nand_outputs = np.array([1, 1, 1, 0])\n",
        "\n",
        "initial_weights = [0.2, -0.0, 0.4]"
      ],
      "metadata": {
        "id": "fVzyx6P645MM"
      },
      "execution_count": 9,
      "outputs": []
    },
    {
      "cell_type": "code",
      "source": [
        "def train_and_evaluate(name, outputs):\n",
        "    perceptron = Perceptron(initial_weights=initial_weights)\n",
        "    errors = perceptron.fit(inputs, outputs)\n",
        "    print(f\"{name} Predictions after training:\", perceptron.predict(inputs))\n",
        "    print(f\"{name} Errors over iterations:\", errors[-1])\n",
        "\n",
        "    print(f\"{name} Final Weights:\", perceptron.weights)\n",
        "    print(f\"{name} Final Bias:\", perceptron.bias)"
      ],
      "metadata": {
        "id": "8mGpKGYN4ZU0"
      },
      "execution_count": 10,
      "outputs": []
    },
    {
      "cell_type": "code",
      "source": [
        "print(\"AND Function:\")\n",
        "train_and_evaluate(\"AND\", and_outputs)"
      ],
      "metadata": {
        "colab": {
          "base_uri": "https://localhost:8080/"
        },
        "id": "B1XrXPz04h0c",
        "outputId": "4b15023e-d070-4f3e-a6f4-b89da41d40fc"
      },
      "execution_count": 11,
      "outputs": [
        {
          "output_type": "stream",
          "name": "stdout",
          "text": [
            "AND Function:\n",
            "AND Predictions after training: [0 0 0 1]\n",
            "AND Errors over iterations: 0\n",
            "AND Final Weights: [0.2 0.1]\n",
            "AND Final Bias: -0.3\n"
          ]
        }
      ]
    },
    {
      "cell_type": "code",
      "source": [
        "print(\"\\nOR Function:\")\n",
        "train_and_evaluate(\"OR\", or_outputs)"
      ],
      "metadata": {
        "colab": {
          "base_uri": "https://localhost:8080/"
        },
        "id": "Uhmg8MuG4mKM",
        "outputId": "c3c75341-6bd0-49b6-ac6e-c258d7b0c670"
      },
      "execution_count": 12,
      "outputs": [
        {
          "output_type": "stream",
          "name": "stdout",
          "text": [
            "\n",
            "OR Function:\n",
            "OR Predictions after training: [0 1 1 1]\n",
            "OR Errors over iterations: 0\n",
            "OR Final Weights: [0.2 0.1]\n",
            "OR Final Bias: -0.09999999999999998\n"
          ]
        }
      ]
    },
    {
      "cell_type": "code",
      "source": [
        "print(\"\\nNAND Function:\")\n",
        "train_and_evaluate(\"NAND\", nand_outputs)"
      ],
      "metadata": {
        "colab": {
          "base_uri": "https://localhost:8080/"
        },
        "id": "MlMoNjFi4sqn",
        "outputId": "e89db3ad-45a2-4efd-cd63-454fac065863"
      },
      "execution_count": 13,
      "outputs": [
        {
          "output_type": "stream",
          "name": "stdout",
          "text": [
            "\n",
            "NAND Function:\n",
            "NAND Predictions after training: [1 1 1 0]\n",
            "NAND Errors over iterations: 0\n",
            "NAND Final Weights: [-0.1 -0.2]\n",
            "NAND Final Bias: 0.20000000000000004\n"
          ]
        }
      ]
    }
  ]
}