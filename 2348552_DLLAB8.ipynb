{
 "cells": [
  {
   "cell_type": "code",
   "execution_count": 5,
   "metadata": {},
   "outputs": [],
   "source": [
    "import os\n",
    "import torch\n",
    "from torch.utils.data import Dataset, DataLoader\n",
    "from torchvision import transforms\n",
    "import numpy as np\n",
    "from PIL import Image\n",
    "import matplotlib.pyplot as plt\n",
    "import matplotlib.patches as patches"
   ]
  },
  {
   "cell_type": "code",
   "execution_count": 6,
   "metadata": {},
   "outputs": [],
   "source": [
    "import os\n",
    "from shutil import copyfile\n",
    "\n",
    "# Define paths\n",
    "images_dir = r\"C:\\Users\\sanja\\OneDrive\\Documents\\DL\\car\\img\"\n",
    "annotations_dir = r\"C:\\Users\\sanja\\OneDrive\\Documents\\DL\\car\\annotation\"\n",
    "dataset_dir = r\"C:\\Users\\sanja\\OneDrive\\Documents\\DL\\car\"\n",
    "# Create dataset directory\n",
    "os.makedirs(dataset_dir, exist_ok=True)\n",
    "\n",
    "# Copy images to dataset directory\n",
    "for filename in os.listdir(images_dir):\n",
    "    if filename.endswith(\".jpg\") or filename.endswith(\".png\"):\n",
    "        copyfile(os.path.join(images_dir, filename), os.path.join(dataset_dir, filename))\n"
   ]
  },
  {
   "cell_type": "code",
   "execution_count": null,
   "metadata": {},
   "outputs": [],
   "source": []
  }
 ],
 "metadata": {
  "kernelspec": {
   "display_name": "Python 3",
   "language": "python",
   "name": "python3"
  },
  "language_info": {
   "codemirror_mode": {
    "name": "ipython",
    "version": 3
   },
   "file_extension": ".py",
   "mimetype": "text/x-python",
   "name": "python",
   "nbconvert_exporter": "python",
   "pygments_lexer": "ipython3",
   "version": "3.12.1"
  }
 },
 "nbformat": 4,
 "nbformat_minor": 2
}
