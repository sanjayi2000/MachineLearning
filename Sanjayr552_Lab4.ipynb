{
  "nbformat": 4,
  "nbformat_minor": 0,
  "metadata": {
    "colab": {
      "provenance": [],
      "authorship_tag": "ABX9TyPDstx3N9NDr91MEXojrs+Q",
      "include_colab_link": true
    },
    "kernelspec": {
      "name": "python3",
      "display_name": "Python 3"
    },
    "language_info": {
      "name": "python"
    }
  },
  "cells": [
    {
      "cell_type": "markdown",
      "metadata": {
        "id": "view-in-github",
        "colab_type": "text"
      },
      "source": [
        "<a href=\"https://colab.research.google.com/github/sanjayi2000/MachineLearning/blob/main/Sanjayr552_Lab4.ipynb\" target=\"_parent\"><img src=\"https://colab.research.google.com/assets/colab-badge.svg\" alt=\"Open In Colab\"/></a>"
      ]
    },
    {
      "cell_type": "code",
      "execution_count": 1,
      "metadata": {
        "id": "GbrArQ4zVFyG"
      },
      "outputs": [],
      "source": [
        "from nltk.corpus import wordnet"
      ]
    },
    {
      "cell_type": "code",
      "source": [
        "word_list = [\"happy\", \"world\", \"sea\", \"moss\", \"island\"]"
      ],
      "metadata": {
        "id": "i_pm5XY2VRwQ"
      },
      "execution_count": 2,
      "outputs": []
    },
    {
      "cell_type": "code",
      "source": [
        "import nltk\n",
        "nltk.download('wordnet')"
      ],
      "metadata": {
        "colab": {
          "base_uri": "https://localhost:8080/"
        },
        "id": "Vwb3kGSWWaYc",
        "outputId": "21336dc8-b9d5-4503-fa54-8273de8c2822"
      },
      "execution_count": 3,
      "outputs": [
        {
          "output_type": "stream",
          "name": "stderr",
          "text": [
            "[nltk_data] Downloading package wordnet to /root/nltk_data...\n"
          ]
        },
        {
          "output_type": "execute_result",
          "data": {
            "text/plain": [
              "True"
            ]
          },
          "metadata": {},
          "execution_count": 3
        }
      ]
    },
    {
      "cell_type": "code",
      "source": [
        "\n",
        "def get_synonyms(word):\n",
        "    synsets = wordnet.synsets(word)\n",
        "    if not synsets:\n",
        "        print(f\"No synonyms found for '{word}'.\")\n",
        "        return\n",
        "\n",
        "    # a) Find the 3rd meaning of the word in the list.\n",
        "    if len(synsets) >= 3:\n",
        "        third_meaning = synsets[2]\n",
        "        print(\"Third meaning:\", third_meaning.definition())\n",
        "\n",
        "    synonyms = set()\n",
        "    for synset in synsets:\n",
        "        for lemma in synset.lemmas():\n",
        "            synonyms.add(lemma.name())\n",
        "\n",
        "    # b) Extract the nouns of the word from the synonyms list.\n",
        "    nouns = {syn for syn in synonyms if wordnet.synsets(syn, pos=wordnet.NOUN)}\n",
        "    if nouns:\n",
        "        print(\"Nouns:\", nouns)\n",
        "    else:\n",
        "        print(f\"No nouns found for '{word}'.\")\n",
        "\n",
        "    # c) Extract the verbs of the word from the synonyms list.\n",
        "    verbs = {syn for syn in synonyms if wordnet.synsets(syn, pos=wordnet.VERB)}\n",
        "    if verbs:\n",
        "        print(\"Verbs:\", verbs)\n",
        "    else:\n",
        "        print(f\"No verbs found for '{word}'.\")\n",
        "\n",
        "    # d) Extract the adjectives of the word from the synonyms list.\n",
        "    adjectives = {syn for syn in synonyms if wordnet.synsets(syn, pos=wordnet.ADJ)}\n",
        "    if adjectives:\n",
        "        print(\"Adjectives:\", adjectives)\n",
        "    else:\n",
        "        print(f\"No adjectives found for '{word}'.\")\n",
        "\n",
        "    # e) Extract the adverbs of the word from the synonyms list.\n",
        "    adverbs = {syn for syn in synonyms if wordnet.synsets(syn, pos=wordnet.ADV)}\n",
        "    if adverbs:\n",
        "        print(\"Adverbs:\", adverbs)\n",
        "    else:\n",
        "        print(f\"No adverbs found for '{word}'.\")\n",
        "\n",
        "    # f) Extract the definition of the word.\n",
        "    print(\"Definition:\", synsets[0].definition())\n",
        "\n",
        "    # g) Find the hypernyms of each word.\n",
        "    for synset in synsets:\n",
        "        print(\"Hypernyms:\", synset.hypernyms())\n",
        "\n",
        "    # h) Find the hyponyms of each word.\n",
        "    for synset in synsets:\n",
        "        print(\"Hyponyms:\", synset.hyponyms())\n",
        "\n",
        "    # i) Find the similarities of any two hyponyms of a word.\n",
        "    hyponyms = synsets[0].hyponyms()\n",
        "    if len(hyponyms) >= 2:\n",
        "        similarity = hyponyms[0].path_similarity(hyponyms[1])\n",
        "        print(\"Similarity of two hyponyms:\", similarity)\n",
        "\n",
        "word = \"primed\"\n",
        "get_synonyms(word)\n"
      ],
      "metadata": {
        "colab": {
          "base_uri": "https://localhost:8080/"
        },
        "id": "NX8GSTyLVf02",
        "outputId": "96aefd9e-01b0-413e-a53d-4672f8cef9fb"
      },
      "execution_count": 5,
      "outputs": [
        {
          "output_type": "stream",
          "name": "stdout",
          "text": [
            "Third meaning: fill with priming liquid\n",
            "Nouns: {'prime', 'fit', 'set', 'undercoat', 'ground'}\n",
            "Verbs: {'primed', 'prime', 'prim_out', 'fit', 'set', 'undercoat', 'prim', 'ground', 'prim_up'}\n",
            "Adjectives: {'primed', 'prime', 'fit', 'set', 'prim'}\n",
            "No adverbs found for 'primed'.\n",
            "Definition: insert a primer into (a gun, mine, or charge) preparatory to detonation or firing\n",
            "Hypernyms: [Synset('fix.v.12')]\n",
            "Hypernyms: [Synset('paint.v.02')]\n",
            "Hypernyms: [Synset('fill.v.01')]\n",
            "Hypernyms: [Synset('change.v.02')]\n",
            "Hypernyms: [Synset('compress.v.02')]\n",
            "Hypernyms: [Synset('dress.v.02')]\n",
            "Hypernyms: []\n",
            "Hyponyms: []\n",
            "Hyponyms: []\n",
            "Hyponyms: []\n",
            "Hyponyms: []\n",
            "Hyponyms: []\n",
            "Hyponyms: []\n",
            "Hyponyms: []\n"
          ]
        }
      ]
    }
  ]
}